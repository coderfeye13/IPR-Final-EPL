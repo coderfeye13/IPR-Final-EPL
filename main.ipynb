{
 "cells": [
  {
   "cell_type": "code",
   "execution_count": 1,
   "id": "3241f391-3d81-4da1-92ff-61d66f2790cf",
   "metadata": {
    "tags": []
   },
   "outputs": [],
   "source": [
    "import pandas as pd\n",
    "\n",
    "# İlk CSV dosyasını oku\n",
    "df1 = pd.read_csv('2020-2021.csv')\n",
    "\n",
    "# İkinci CSV dosyasını oku\n",
    "df2 = pd.read_csv('2021-2022.csv')\n",
    "\n",
    "# İki veri çerçevesini birleştir\n",
    "df = pd.concat([df1, df2], ignore_index=True)"
   ]
  },
  {
   "cell_type": "code",
   "execution_count": 2,
   "id": "017b77a5-ec22-4a0b-af2c-5a35626ec816",
   "metadata": {
    "tags": []
   },
   "outputs": [
    {
     "name": "stdout",
     "output_type": "stream",
     "text": [
      "<class 'pandas.core.frame.DataFrame'>\n",
      "RangeIndex: 760 entries, 0 to 759\n",
      "Columns: 106 entries, Div to AvgCAHA\n",
      "dtypes: float64(82), int64(16), object(8)\n",
      "memory usage: 629.5+ KB\n"
     ]
    }
   ],
   "source": [
    "# Birleştirilmiş veri çerçevesini yazdır veya istediğiniz işlemleri uygulayabilirsiniz\n",
    "df.info()"
   ]
  },
  {
   "cell_type": "code",
   "execution_count": 3,
   "id": "4396b097-d046-4446-a1e0-6ae6805747f3",
   "metadata": {
    "tags": []
   },
   "outputs": [
    {
     "name": "stdout",
     "output_type": "stream",
     "text": [
      "Index(['Div', 'Date', 'Time', 'HomeTeam', 'AwayTeam', 'FTR', 'HTR', 'Referee'], dtype='object')\n"
     ]
    }
   ],
   "source": [
    "object_columns = df.select_dtypes(include=['object']).columns\n",
    "print(object_columns)"
   ]
  },
  {
   "cell_type": "code",
   "execution_count": 4,
   "id": "120406d4-2986-42e4-ae52-335a7b7cb031",
   "metadata": {
    "tags": []
   },
   "outputs": [],
   "source": [
    "from sklearn.preprocessing import LabelEncoder\n",
    "\n",
    "label_encoder = LabelEncoder()\n",
    "for column in ['Div', 'Date', 'Time', 'HomeTeam', 'AwayTeam', 'FTR', 'HTR', 'Referee']:\n",
    "    df[column] = label_encoder.fit_transform(df[column])"
   ]
  },
  {
   "cell_type": "code",
   "execution_count": 5,
   "id": "c73603e0-107a-4235-8435-d8222feec09e",
   "metadata": {
    "tags": []
   },
   "outputs": [],
   "source": [
    "hedef_degisken = \"FTR\"\n",
    "Y = df[hedef_degisken]\n",
    "\n",
    "# Bağımsız değişkenler (X): \"FTR\" sütununu hariç tüm sütunlar\n",
    "X = df.drop(columns=[hedef_degisken])"
   ]
  },
  {
   "cell_type": "code",
   "execution_count": 6,
   "id": "a9e45e68-ef52-42e9-8ba4-3b00e1ce8e53",
   "metadata": {
    "tags": []
   },
   "outputs": [],
   "source": [
    "from sklearn.model_selection import train_test_split\n",
    "from sklearn.tree import DecisionTreeClassifier\n",
    "from sklearn.metrics import accuracy_score, classification_report, roc_auc_score, confusion_matrix, roc_curve, auc\n",
    "from sklearn.model_selection import cross_val_score\n"
   ]
  },
  {
   "cell_type": "code",
   "execution_count": 7,
   "id": "910d0c42-8055-4af3-89a4-97c6e6008d72",
   "metadata": {
    "tags": []
   },
   "outputs": [],
   "source": [
    "# Veri setini eğitim ve test setlerine ayır\n",
    "X_train, X_test, y_train, y_test = train_test_split(X, Y, test_size=0.2, random_state=42)\n",
    "\n",
    "# Decision Tree modelini oluştur\n",
    "model = DecisionTreeClassifier()\n",
    "\n",
    "# Modeli eğit\n",
    "model.fit(X_train, y_train)\n",
    "\n",
    "# Tahmin yap\n",
    "y_pred = model.predict(X_test)"
   ]
  },
  {
   "cell_type": "code",
   "execution_count": 8,
   "id": "fdc85d82-8a8c-4f6b-936c-12c6222ae915",
   "metadata": {
    "tags": []
   },
   "outputs": [
    {
     "name": "stdout",
     "output_type": "stream",
     "text": [
      "Accuracy: 0.993421052631579\n",
      "Sensitivity (Recall): 1.0\n",
      "Specificity: 1.0\n",
      "Precision: 1.0\n",
      "F1 Score: 1.0\n"
     ]
    }
   ],
   "source": [
    "# Modelin tahminleri\n",
    "y_pred = model.predict(X_test)\n",
    "\n",
    "# Confusion Matrix'i elde et\n",
    "conf_matrix = confusion_matrix(y_test, y_pred)\n",
    "\n",
    "# True positive, false positive, true negative, false negative değerlerini al\n",
    "TP = conf_matrix[1, 1]\n",
    "FP = conf_matrix[0, 1]\n",
    "TN = conf_matrix[0, 0]\n",
    "FN = conf_matrix[1, 0]\n",
    "\n",
    "#Accuracy\n",
    "accuracy = accuracy_score(y_test, y_pred)\n",
    "print(f\"Accuracy: {accuracy}\")\n",
    "\n",
    "# Sensitivity (Recall)\n",
    "sensitivity = TP / (TP + FN)\n",
    "print(f\"Sensitivity (Recall): {sensitivity}\")\n",
    "\n",
    "# Specificity\n",
    "specificity = TN / (TN + FP)\n",
    "print(f\"Specificity: {specificity}\")\n",
    "\n",
    "# Precision\n",
    "precision = TP / (TP + FP)\n",
    "print(f\"Precision: {precision}\")\n",
    "\n",
    "# F1 Score\n",
    "f1_score = 2 * (precision * sensitivity) / (precision + sensitivity)\n",
    "print(f\"F1 Score: {f1_score}\")\n",
    "\n",
    "#AUC (Area under the ROC Curve)\n",
    "#fpr, tpr, thresholds = roc_curve(y_test, model.predict_proba(X_test)[:, 1])\n",
    "#roc_auc = auc(fpr, tpr)\n",
    "#print(f\"AUC (Area under the ROC Curve): {roc_auc}\")"
   ]
  },
  {
   "cell_type": "code",
   "execution_count": 9,
   "id": "55441eaa-7c5e-4400-8776-f6840124c46d",
   "metadata": {
    "tags": []
   },
   "outputs": [
    {
     "name": "stdout",
     "output_type": "stream",
     "text": [
      "Çapraz Doğrulama Skorları: [0.98360656 1.         1.         1.         0.98360656 1.\n",
      " 1.         0.98360656 0.98333333 1.        ]\n",
      "Ortalama Çapraz Doğrulama Skoru: 0.9934153005464481\n"
     ]
    }
   ],
   "source": [
    "# df: Veri çerçeveniz\n",
    "# hedef_degisken ve X'yi belirledikten sonra\n",
    "X_train, X_test, y_train, y_test = train_test_split(X, Y, test_size=0.2, random_state=42)\n",
    "# Çapraz doğrulama ile model performansını değerlendir\n",
    "cv_scores = cross_val_score(model, X_train, y_train, cv=10, scoring='accuracy')\n",
    "\n",
    "# Elde edilen çapraz doğrulama skorlarını yazdır\n",
    "print(\"Çapraz Doğrulama Skorları:\", cv_scores)\n",
    "\n",
    "# Ortalama çapraz doğrulama skorunu hesapla\n",
    "mean_cv_score = cv_scores.mean()\n",
    "print(\"Ortalama Çapraz Doğrulama Skoru:\", mean_cv_score)"
   ]
  },
  {
   "cell_type": "code",
   "execution_count": 13,
   "id": "3e7c3e52-1bf3-4350-9bbe-c40de3874e90",
   "metadata": {
    "tags": []
   },
   "outputs": [
    {
     "data": {
      "text/plain": [
       "Div         0\n",
       "Date        0\n",
       "Time        0\n",
       "HomeTeam    0\n",
       "AwayTeam    0\n",
       "           ..\n",
       "PCAHA       0\n",
       "MaxCAHH     0\n",
       "MaxCAHA     0\n",
       "AvgCAHH     0\n",
       "AvgCAHA     0\n",
       "Length: 105, dtype: int64"
      ]
     },
     "execution_count": 13,
     "metadata": {},
     "output_type": "execute_result"
    }
   ],
   "source": [
    "X_train.isna().sum()"
   ]
  },
  {
   "cell_type": "code",
   "execution_count": 23,
   "id": "d23bfde7-5ed7-4b97-a6a9-972f6f9b7dda",
   "metadata": {
    "tags": []
   },
   "outputs": [
    {
     "name": "stdout",
     "output_type": "stream",
     "text": [
      "Accuracy: 1.0\n",
      "Precision: 1.0\n",
      "Recall (Sensitivity): 1.0\n",
      "F1 Score: 1.0\n"
     ]
    }
   ],
   "source": [
    "import pandas as pd\n",
    "from sklearn.model_selection import train_test_split\n",
    "from sklearn.experimental import enable_hist_gradient_boosting\n",
    "from sklearn.ensemble import HistGradientBoostingClassifier\n",
    "from sklearn.impute import SimpleImputer\n",
    "from sklearn.pipeline import make_pipeline\n",
    "from sklearn.metrics import accuracy_score, precision_score, recall_score, f1_score, roc_auc_score\n",
    "\n",
    "\n",
    "# Etiket ve özellikleri ayır\n",
    "hedef_degisken = \"FTR\"  \n",
    "Y = df[hedef_degisken]\n",
    "X = df.drop(columns=[hedef_degisken])\n",
    "\n",
    "# Veri setini eğitim ve test setlerine böl\n",
    "X_train, X_test, y_train, y_test = train_test_split(X, Y, test_size=0.2, random_state=42)\n",
    "\n",
    "# Eksik değerleri doldurmak için SimpleImputer kullan\n",
    "model = make_pipeline(SimpleImputer(strategy='mean'), HistGradientBoostingClassifier())\n",
    "\n",
    "# Modeli eğit\n",
    "model.fit(X_train, y_train)\n",
    "\n",
    "# Test seti üzerinde tahmin yap\n",
    "y_pred = model.predict(X_test)\n",
    "\n",
    "# Performans metriklerini değerlendir\n",
    "accuracy = accuracy_score(y_test, y_pred)\n",
    "precision = precision_score(y_test, y_pred, average='micro')  # veya 'macro', 'weighted'\n",
    "recall = recall_score(y_test, y_pred, average='micro')\n",
    "f1 = f1_score(y_test, y_pred, average='micro')\n",
    "#roc_auc = roc_auc_score(y_test, model.decision_function(X_test), multi_class='ovr')\n",
    "\n",
    "# Sonuçları yazdır\n",
    "print(f\"Accuracy: {accuracy}\")\n",
    "print(f\"Precision: {precision}\")\n",
    "print(f\"Recall (Sensitivity): {recall}\")\n",
    "print(f\"F1 Score: {f1}\")\n",
    "#print(f\"AUC (Area under the ROC Curve): {roc_auc}\")\n"
   ]
  },
  {
   "cell_type": "code",
   "execution_count": 12,
   "id": "88fc6647-e3cb-4fd4-887d-0e64e2c4e980",
   "metadata": {
    "tags": []
   },
   "outputs": [
    {
     "name": "stdout",
     "output_type": "stream",
     "text": [
      "Accuracy: 0.993421052631579\n",
      "Sensitivity (Recall): 1.0\n",
      "Specificity: 1.0\n",
      "Precision: 1.0\n",
      "F1 Score: 1.0\n"
     ]
    }
   ],
   "source": [
    "# Confusion Matrix'i elde et\n",
    "conf_matrix = confusion_matrix(y_test, y_pred)\n",
    "\n",
    "# True positive, false positive, true negative, false negative değerlerini al\n",
    "TP = conf_matrix[1, 1]\n",
    "FP = conf_matrix[0, 1]\n",
    "TN = conf_matrix[0, 0]\n",
    "FN = conf_matrix[1, 0]\n",
    "\n",
    "#Accuracy\n",
    "accuracy = accuracy_score(y_test, y_pred)\n",
    "print(f\"Accuracy: {accuracy}\")\n",
    "\n",
    "# Sensitivity (Recall)\n",
    "sensitivity = TP / (TP + FN)\n",
    "print(f\"Sensitivity (Recall): {sensitivity}\")\n",
    "\n",
    "# Specificity\n",
    "specificity = TN / (TN + FP)\n",
    "print(f\"Specificity: {specificity}\")\n",
    "\n",
    "# Precision\n",
    "precision = TP / (TP + FP)\n",
    "print(f\"Precision: {precision}\")\n",
    "\n",
    "# F1 Score\n",
    "f1_score = 2 * (precision * sensitivity) / (precision + sensitivity)\n",
    "print(f\"F1 Score: {f1_score}\")\n",
    "\n",
    "#AUC (Area under the ROC Curve)\n",
    "#fpr, tpr, thresholds = roc_curve(y_test, model.predict_proba(X_test)[:, 1])\n",
    "#roc_auc = auc(fpr, tpr)\n",
    "#print(f\"AUC (Area under the ROC Curve): {roc_auc}\");"
   ]
  },
  {
   "cell_type": "code",
   "execution_count": null,
   "id": "4ee5b08f-7ce9-4ccf-87f0-a719caeae2e7",
   "metadata": {},
   "outputs": [],
   "source": []
  }
 ],
 "metadata": {
  "kernelspec": {
   "display_name": "Python 3 (ipykernel)",
   "language": "python",
   "name": "python3"
  },
  "language_info": {
   "codemirror_mode": {
    "name": "ipython",
    "version": 3
   },
   "file_extension": ".py",
   "mimetype": "text/x-python",
   "name": "python",
   "nbconvert_exporter": "python",
   "pygments_lexer": "ipython3",
   "version": "3.11.4"
  }
 },
 "nbformat": 4,
 "nbformat_minor": 5
}
